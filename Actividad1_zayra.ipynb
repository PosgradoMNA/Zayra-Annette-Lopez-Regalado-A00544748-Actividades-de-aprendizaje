{
  "nbformat": 4,
  "nbformat_minor": 0,
  "metadata": {
    "colab": {
      "provenance": [],
      "authorship_tag": "ABX9TyPNrBjKttWHj65ylYggPc2A",
      "include_colab_link": true
    },
    "kernelspec": {
      "name": "python3",
      "display_name": "Python 3"
    },
    "language_info": {
      "name": "python"
    }
  },
  "cells": [
    {
      "cell_type": "markdown",
      "metadata": {
        "id": "view-in-github",
        "colab_type": "text"
      },
      "source": [
        "<a href=\"https://colab.research.google.com/github/PosgradoMNA/actividades-de-aprendizaje-A00544748/blob/main/Actividad1_zayra.ipynb\" target=\"_parent\"><img src=\"https://colab.research.google.com/assets/colab-badge.svg\" alt=\"Open In Colab\"/></a>"
      ]
    },
    {
      "cell_type": "markdown",
      "source": [
        "###suma de dos numeros"
      ],
      "metadata": {
        "id": "c3WOUPyR-a0t"
      }
    },
    {
      "cell_type": "markdown",
      "source": [
        "Recoleccion de datos\n"
      ],
      "metadata": {
        "id": "OD61RaTg_z3A"
      }
    },
    {
      "cell_type": "code",
      "execution_count": 8,
      "metadata": {
        "id": "Cjv_kE78-K1z"
      },
      "outputs": [],
      "source": [
        "suma=0\n",
        "casa=1000\n",
        "departamento=3000\n"
      ]
    },
    {
      "cell_type": "markdown",
      "source": [
        "Resultados"
      ],
      "metadata": {
        "id": "Wej8hWlS-OGP"
      }
    },
    {
      "cell_type": "code",
      "source": [
        "suma=casa+departamento\n",
        "print(suma)"
      ],
      "metadata": {
        "colab": {
          "base_uri": "https://localhost:8080/"
        },
        "id": "ShBSDRx8_QE_",
        "outputId": "4493fb3b-05dc-491d-d66b-344080f36f39"
      },
      "execution_count": 9,
      "outputs": [
        {
          "output_type": "stream",
          "name": "stdout",
          "text": [
            "4000\n"
          ]
        }
      ]
    },
    {
      "cell_type": "markdown",
      "source": [
        "Multiplicacion de 2 numeros"
      ],
      "metadata": {
        "id": "qllpSg9JAHWQ"
      }
    },
    {
      "cell_type": "code",
      "source": [
        "numeroa=100\n",
        "numerob=300"
      ],
      "metadata": {
        "id": "xys_7IxRAOjc"
      },
      "execution_count": 10,
      "outputs": []
    },
    {
      "cell_type": "markdown",
      "source": [
        "Resultado"
      ],
      "metadata": {
        "id": "HpmkmXDaAaxr"
      }
    },
    {
      "cell_type": "code",
      "source": [
        "multiplicacion=numeroa*numerob\n",
        "print(multiplicacion)\n"
      ],
      "metadata": {
        "colab": {
          "base_uri": "https://localhost:8080/"
        },
        "id": "1YBGC7lDAeG3",
        "outputId": "2924be91-ed1e-4155-d106-c7508c58758f"
      },
      "execution_count": 11,
      "outputs": [
        {
          "output_type": "stream",
          "name": "stdout",
          "text": [
            "30000\n"
          ]
        }
      ]
    },
    {
      "cell_type": "code",
      "source": [
        "nombre=\"zayra lopez\"\n",
        "nombre2='zayra'\n",
        "lista=[0,1,2,3,4]\n",
        "dic={nombre:zayra,apellido1:}"
      ],
      "metadata": {
        "colab": {
          "base_uri": "https://localhost:8080/",
          "height": 134
        },
        "id": "2JntQFf-BDyd",
        "outputId": "223ec80b-4d02-4af7-8ca8-4b80106fc9dd"
      },
      "execution_count": 12,
      "outputs": [
        {
          "output_type": "error",
          "ename": "SyntaxError",
          "evalue": "ignored",
          "traceback": [
            "\u001b[0;36m  File \u001b[0;32m\"<ipython-input-12-ad046710ea66>\"\u001b[0;36m, line \u001b[0;32m4\u001b[0m\n\u001b[0;31m    dic=\u001b[0m\n\u001b[0m        ^\u001b[0m\n\u001b[0;31mSyntaxError\u001b[0m\u001b[0;31m:\u001b[0m invalid syntax\n"
          ]
        }
      ]
    }
  ]
}