{
  "nbformat": 4,
  "nbformat_minor": 0,
  "metadata": {
    "colab": {
      "provenance": [],
      "authorship_tag": "ABX9TyMerzpRyOQ/rzB2JxeWgGx8",
      "include_colab_link": true
    },
    "kernelspec": {
      "name": "python3",
      "display_name": "Python 3"
    },
    "language_info": {
      "name": "python"
    }
  },
  "cells": [
    {
      "cell_type": "markdown",
      "metadata": {
        "id": "view-in-github",
        "colab_type": "text"
      },
      "source": [
        "<a href=\"https://colab.research.google.com/github/PosgradoMNA/Zayra-Annette-Lopez-Regalado-A00544748-Actividades-de-aprendizaje/blob/main/Data_Analysis_with_Python_(IBM).ipynb\" target=\"_parent\"><img src=\"https://colab.research.google.com/assets/colab-badge.svg\" alt=\"Open In Colab\"/></a>"
      ]
    },
    {
      "cell_type": "code",
      "execution_count": null,
      "metadata": {
        "id": "LfmShJtMKeOE"
      },
      "outputs": [],
      "source": []
    },
    {
      "cell_type": "markdown",
      "source": [
        "**Modulo 1**\n",
        "Introduction\n",
        "\n",
        "\n",
        "\n",
        "\n",
        "\n"
      ],
      "metadata": {
        "id": "HA6BpnqnKwFk"
      }
    },
    {
      "cell_type": "code",
      "source": [
        "# Phyton: \n",
        "# A Python library is a collection of functions and methods that allow you to perform lots of actions without writing any code.\n",
        "# Libreries\n",
        "# The libraries usually contain built-in modules providing different functionalities, which you can use directly.\n",
        "# Pandas\n",
        "# The primary instrument of Pandas is a two-dimensional table consisting of column and row labels, which are called a DataFrame.\n",
        "# Numpy \n",
        "# The Numpy library uses arrays for its inputs and outputs. It can be extended to objects for matrices, and with minor coding changes, developers can perform fast array processing.\n",
        "# SciPy\n",
        "# SciPy includes functions for some advanced math problems, as well as data visualization.\n",
        "# The Matplotlib package is the most well-known library for data visualization."
      ],
      "metadata": {
        "id": "KYen1aFmLFhE"
      },
      "execution_count": null,
      "outputs": []
    }
  ]
}