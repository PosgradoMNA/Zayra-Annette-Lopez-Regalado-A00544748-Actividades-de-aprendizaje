{
  "nbformat": 4,
  "nbformat_minor": 0,
  "metadata": {
    "colab": {
      "provenance": [],
      "authorship_tag": "ABX9TyO6AQkJXSMRgdDaWrVKXSyo",
      "include_colab_link": true
    },
    "kernelspec": {
      "name": "python3",
      "display_name": "Python 3"
    },
    "language_info": {
      "name": "python"
    }
  },
  "cells": [
    {
      "cell_type": "markdown",
      "metadata": {
        "id": "view-in-github",
        "colab_type": "text"
      },
      "source": [
        "<a href=\"https://colab.research.google.com/github/PosgradoMNA/Zayra-Annette-Lopez-Regalado-A00544748-Actividades-de-aprendizaje/blob/main/Data_Analysis_with_Phyton_Module_5.ipynb\" target=\"_parent\"><img src=\"https://colab.research.google.com/assets/colab-badge.svg\" alt=\"Open In Colab\"/></a>"
      ]
    },
    {
      "cell_type": "code",
      "execution_count": null,
      "metadata": {
        "id": "QBOBSTsgkkCp"
      },
      "outputs": [],
      "source": []
    },
    {
      "cell_type": "markdown",
      "source": [
        "**Alumna:** Zayra Annette Lopez Regalado\n",
        "\n",
        "**Matricula:** A00544748\n",
        "\n",
        "**Materia:** Ciencia de Datos\n",
        "\n",
        "MODULO 5"
      ],
      "metadata": {
        "id": "B2FyFou_kmJr"
      }
    },
    {
      "cell_type": "markdown",
      "source": [
        "# **Modulo 5**"
      ],
      "metadata": {
        "id": "STqKpyrEkrJL"
      }
    },
    {
      "cell_type": "code",
      "source": [
        " to split our data up, use the In-sample data or training data to train\n",
        "the model.\n",
        "The rest of the data called test data is used as out-of-sample data.\n",
        "This data is then used to approximate how the model performs in the real world."
      ],
      "metadata": {
        "id": "LREZ_YCVkp4J"
      },
      "execution_count": null,
      "outputs": []
    },
    {
      "cell_type": "code",
      "source": [],
      "metadata": {
        "id": "p6FFPlSYpTL2"
      },
      "execution_count": null,
      "outputs": []
    },
    {
      "cell_type": "code",
      "source": [],
      "metadata": {
        "id": "FcVFua0KpTG4"
      },
      "execution_count": null,
      "outputs": []
    },
    {
      "cell_type": "code",
      "source": [],
      "metadata": {
        "id": "DX-70yONpTBZ"
      },
      "execution_count": null,
      "outputs": []
    },
    {
      "cell_type": "markdown",
      "source": [
        "# **Modulo 5 LABS**"
      ],
      "metadata": {
        "id": "eiFyK7H9pXAs"
      }
    },
    {
      "cell_type": "code",
      "source": [],
      "metadata": {
        "id": "u7XpDEF9pd2a"
      },
      "execution_count": null,
      "outputs": []
    },
    {
      "cell_type": "code",
      "source": [],
      "metadata": {
        "id": "lhbVJ8JGpdvb"
      },
      "execution_count": null,
      "outputs": []
    },
    {
      "cell_type": "markdown",
      "source": [
        "# **Modulo 5 Exam and Results**"
      ],
      "metadata": {
        "id": "bMYUzh5gpesG"
      }
    },
    {
      "cell_type": "code",
      "source": [],
      "metadata": {
        "id": "8eEDLoKopkBY"
      },
      "execution_count": null,
      "outputs": []
    },
    {
      "cell_type": "code",
      "source": [],
      "metadata": {
        "id": "LO235-0mpj8B"
      },
      "execution_count": null,
      "outputs": []
    },
    {
      "cell_type": "code",
      "source": [],
      "metadata": {
        "id": "yThxVkkppj3t"
      },
      "execution_count": null,
      "outputs": []
    }
  ]
}