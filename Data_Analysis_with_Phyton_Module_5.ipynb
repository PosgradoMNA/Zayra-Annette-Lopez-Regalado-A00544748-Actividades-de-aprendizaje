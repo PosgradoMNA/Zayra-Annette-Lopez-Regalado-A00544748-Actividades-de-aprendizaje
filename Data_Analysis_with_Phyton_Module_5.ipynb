{
  "nbformat": 4,
  "nbformat_minor": 0,
  "metadata": {
    "colab": {
      "provenance": [],
      "authorship_tag": "ABX9TyNGvTdlzlJxhfSou+b/X2Zr",
      "include_colab_link": true
    },
    "kernelspec": {
      "name": "python3",
      "display_name": "Python 3"
    },
    "language_info": {
      "name": "python"
    }
  },
  "cells": [
    {
      "cell_type": "markdown",
      "metadata": {
        "id": "view-in-github",
        "colab_type": "text"
      },
      "source": [
        "<a href=\"https://colab.research.google.com/github/PosgradoMNA/Zayra-Annette-Lopez-Regalado-A00544748-Actividades-de-aprendizaje/blob/main/Data_Analysis_with_Phyton_Module_5.ipynb\" target=\"_parent\"><img src=\"https://colab.research.google.com/assets/colab-badge.svg\" alt=\"Open In Colab\"/></a>"
      ]
    },
    {
      "cell_type": "code",
      "execution_count": null,
      "metadata": {
        "id": "QBOBSTsgkkCp"
      },
      "outputs": [],
      "source": []
    },
    {
      "cell_type": "markdown",
      "source": [
        "**Alumna:** Zayra Annette Lopez Regalado\n",
        "\n",
        "**Matricula:** A00544748\n",
        "\n",
        "**Materia:** Ciencia de Datos\n",
        "\n",
        "MODULO 5"
      ],
      "metadata": {
        "id": "B2FyFou_kmJr"
      }
    },
    {
      "cell_type": "markdown",
      "source": [
        "# **Modulo 5**"
      ],
      "metadata": {
        "id": "STqKpyrEkrJL"
      }
    },
    {
      "cell_type": "code",
      "source": [],
      "metadata": {
        "id": "LREZ_YCVkp4J"
      },
      "execution_count": null,
      "outputs": []
    }
  ]
}